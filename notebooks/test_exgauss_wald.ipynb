{
 "cells": [
  {
   "cell_type": "code",
   "execution_count": 1,
   "metadata": {},
   "outputs": [],
   "source": [
    "import numpy as np\n",
    "import pandas as pd\n",
    "import ssms"
   ]
  },
  {
   "cell_type": "code",
   "execution_count": 2,
   "metadata": {},
   "outputs": [
    {
     "data": {
      "text/plain": [
       "['ddm',\n",
       " 'ddm_st',\n",
       " 'ddm_truncnormt',\n",
       " 'ddm_rayleight',\n",
       " 'ddm_sdv',\n",
       " 'ddm_par2',\n",
       " 'ddm_par2_no_bias',\n",
       " 'ddm_par2_conflict_gamma_no_bias',\n",
       " 'ddm_par2_angle_no_bias',\n",
       " 'ddm_par2_weibull_no_bias',\n",
       " 'ddm_seq2',\n",
       " 'ddm_seq2_no_bias',\n",
       " 'ddm_seq2_conflict_gamma_no_bias',\n",
       " 'ddm_seq2_angle_no_bias',\n",
       " 'ddm_seq2_weibull_no_bias',\n",
       " 'ddm_mic2_adj',\n",
       " 'ddm_mic2_adj_no_bias',\n",
       " 'ddm_mic2_adj_conflict_gamma_no_bias',\n",
       " 'ddm_mic2_adj_angle_no_bias',\n",
       " 'ddm_mic2_adj_weibull_no_bias',\n",
       " 'ddm_mic2_ornstein',\n",
       " 'ddm_mic2_ornstein_no_bias',\n",
       " 'ddm_mic2_ornstein_no_bias_no_lowdim_noise',\n",
       " 'ddm_mic2_ornstein_conflict_gamma_no_bias',\n",
       " 'ddm_mic2_ornstein_conflict_gamma_no_bias_no_lowdim_noise',\n",
       " 'ddm_mic2_ornstein_angle_no_bias',\n",
       " 'ddm_mic2_ornstein_angle_no_bias_no_lowdim_noise',\n",
       " 'ddm_mic2_ornstein_weibull_no_bias',\n",
       " 'ddm_mic2_ornstein_weibull_no_bias_no_lowdim_noise',\n",
       " 'ddm_mic2_leak',\n",
       " 'ddm_mic2_leak_no_bias',\n",
       " 'ddm_mic2_leak_no_bias_no_lowdim_noise',\n",
       " 'ddm_mic2_leak_conflict_gamma_no_bias',\n",
       " 'ddm_mic2_leak_conflict_gamma_no_bias_no_lowdim_noise',\n",
       " 'ddm_mic2_leak_angle_no_bias',\n",
       " 'ddm_mic2_leak_angle_no_bias_no_lowdim_noise',\n",
       " 'ddm_mic2_leak_weibull_no_bias',\n",
       " 'ddm_mic2_leak_weibull_no_bias_no_lowdim_noise',\n",
       " 'ddm_mic2_multinoise_no_bias',\n",
       " 'ddm_mic2_multinoise_conflict_gamma_no_bias',\n",
       " 'ddm_mic2_multinoise_angle_no_bias',\n",
       " 'ddm_mic2_multinoise_weibull_no_bias',\n",
       " 'full_ddm',\n",
       " 'full_ddm_rv',\n",
       " 'levy',\n",
       " 'levy_angle',\n",
       " 'angle',\n",
       " 'weibull',\n",
       " 'gamma_drift',\n",
       " 'shrink_spot',\n",
       " 'shrink_spot_extended',\n",
       " 'shrink_spot_simple',\n",
       " 'shrink_spot_simple_extended',\n",
       " 'gamma_drift_angle',\n",
       " 'ds_conflict_drift',\n",
       " 'ds_conflict_drift_angle',\n",
       " 'ds_conflict_stimflexons_drift',\n",
       " 'ds_conflict_stimflexons_drift_angle',\n",
       " 'ornstein',\n",
       " 'ornstein_angle',\n",
       " 'race_2',\n",
       " 'race_no_bias_2',\n",
       " 'race_no_z_2',\n",
       " 'race_no_bias_angle_2',\n",
       " 'race_no_z_angle_2',\n",
       " 'race_3',\n",
       " 'race_no_bias_3',\n",
       " 'race_no_z_3',\n",
       " 'race_no_bias_angle_3',\n",
       " 'race_no_z_angle_3',\n",
       " 'race_4',\n",
       " 'race_no_bias_4',\n",
       " 'race_no_z_4',\n",
       " 'race_no_bias_angle_4',\n",
       " 'race_no_z_angle_4',\n",
       " 'dev_rlwm_lba_pw_v1',\n",
       " 'dev_rlwm_lba_race_v1',\n",
       " 'dev_rlwm_lba_race_v2',\n",
       " 'lba2',\n",
       " 'lba3',\n",
       " 'lba_3_vs_constraint',\n",
       " 'lba_angle_3_vs_constraint',\n",
       " 'lba_angle_3',\n",
       " 'lca_3',\n",
       " 'lca_no_bias_3',\n",
       " 'lca_no_z_3',\n",
       " 'lca_no_bias_angle_3',\n",
       " 'lca_no_z_angle_3',\n",
       " 'lca_4',\n",
       " 'lca_no_bias_4',\n",
       " 'lca_no_z_4',\n",
       " 'lca_no_bias_angle_4',\n",
       " 'lca_no_z_angle_4',\n",
       " 'tradeoff_no_bias',\n",
       " 'tradeoff_angle_no_bias',\n",
       " 'tradeoff_weibull_no_bias',\n",
       " 'tradeoff_conflict_gamma_no_bias',\n",
       " 'weibull_cdf',\n",
       " 'full_ddm2',\n",
       " 'ddm_legacy',\n",
       " 'exgauss']"
      ]
     },
     "execution_count": 2,
     "metadata": {},
     "output_type": "execute_result"
    }
   ],
   "source": [
    "list(ssms.config.model_config.keys())"
   ]
  },
  {
   "cell_type": "code",
   "execution_count": 3,
   "metadata": {},
   "outputs": [
    {
     "name": "stdout",
     "output_type": "stream",
     "text": [
      "this is simulator output {'rts': array([[0.9175714]], dtype=float32), 'metadata': {'mu': array([0.5], dtype=float32), 'sigma': array([0.01], dtype=float32), 'tau': array([0.3], dtype=float32), 'n_samples': 1, 'n_trials': 1, 'simulator': 'exgauss'}}\n"
     ]
    },
    {
     "ename": "KeyError",
     "evalue": "'possible_choices'",
     "output_type": "error",
     "traceback": [
      "\u001b[31m---------------------------------------------------------------------------\u001b[39m",
      "\u001b[31mKeyError\u001b[39m                                  Traceback (most recent call last)",
      "\u001b[36mCell\u001b[39m\u001b[36m \u001b[39m\u001b[32mIn[3]\u001b[39m\u001b[32m, line 4\u001b[39m\n\u001b[32m      2\u001b[39m out_list = []\n\u001b[32m      3\u001b[39m \u001b[38;5;28;01mfor\u001b[39;00m i \u001b[38;5;129;01min\u001b[39;00m \u001b[38;5;28mrange\u001b[39m(\u001b[32m100\u001b[39m):\n\u001b[32m----> \u001b[39m\u001b[32m4\u001b[39m     sim_out = \u001b[43msimulator\u001b[49m\u001b[43m(\u001b[49m\n\u001b[32m      5\u001b[39m \u001b[43m        \u001b[49m\u001b[43mmodel\u001b[49m\u001b[43m=\u001b[49m\u001b[33;43m\"\u001b[39;49m\u001b[33;43mexgauss\u001b[39;49m\u001b[33;43m\"\u001b[39;49m\u001b[43m,\u001b[49m\u001b[43m \u001b[49m\u001b[43mtheta\u001b[49m\u001b[43m=\u001b[49m\u001b[43m{\u001b[49m\u001b[33;43m\"\u001b[39;49m\u001b[33;43mmu\u001b[39;49m\u001b[33;43m\"\u001b[39;49m\u001b[43m:\u001b[49m\u001b[43m \u001b[49m\u001b[32;43m0.5\u001b[39;49m\u001b[43m,\u001b[49m\u001b[43m \u001b[49m\u001b[33;43m\"\u001b[39;49m\u001b[33;43msigma\u001b[39;49m\u001b[33;43m\"\u001b[39;49m\u001b[43m:\u001b[49m\u001b[32;43m0.01\u001b[39;49m\u001b[43m,\u001b[49m\u001b[43m \u001b[49m\u001b[33;43m\"\u001b[39;49m\u001b[33;43mtau\u001b[39;49m\u001b[33;43m\"\u001b[39;49m\u001b[43m:\u001b[49m\u001b[43m \u001b[49m\u001b[32;43m0.3\u001b[39;49m\u001b[43m}\u001b[49m\u001b[43m,\u001b[49m\u001b[43m \u001b[49m\u001b[43mn_samples\u001b[49m\u001b[43m=\u001b[49m\u001b[32;43m1\u001b[39;49m\u001b[43m,\u001b[49m\u001b[43m \u001b[49m\u001b[43mrandom_state\u001b[49m\u001b[43m \u001b[49m\u001b[43m=\u001b[49m\u001b[43m \u001b[49m\u001b[32;43m100\u001b[39;49m\u001b[43m,\u001b[49m\n\u001b[32m      6\u001b[39m \u001b[43m    \u001b[49m\u001b[43m)\u001b[49m\n\u001b[32m      7\u001b[39m     out_list.append(sim_out)\n",
      "\u001b[36mFile \u001b[39m\u001b[32m/oscar/home/azhan378/ssm-simulators/ssms/basic_simulators/simulator.py:680\u001b[39m, in \u001b[36msimulator\u001b[39m\u001b[34m(theta, model, n_samples, delta_t, max_t, no_noise, sigma_noise, smooth_unif, random_state)\u001b[39m\n\u001b[32m    673\u001b[39m     \u001b[38;5;28;01mraise\u001b[39;00m \u001b[38;5;167;01mTypeError\u001b[39;00m(\n\u001b[32m    674\u001b[39m         \u001b[33mf\u001b[39m\u001b[33m\"\u001b[39m\u001b[33mExpected simulator to return a dictionary, got \u001b[39m\u001b[38;5;132;01m{\u001b[39;00m\u001b[38;5;28mtype\u001b[39m(x).\u001b[34m__name__\u001b[39m\u001b[38;5;132;01m}\u001b[39;00m\u001b[33m\"\u001b[39m\n\u001b[32m    675\u001b[39m     )\n\u001b[32m    677\u001b[39m \u001b[38;5;66;03m# Postprocess simulator output ----------------------------\u001b[39;00m\n\u001b[32m    678\u001b[39m \u001b[38;5;66;03m# Additional model outputs, easy to compute:\u001b[39;00m\n\u001b[32m    679\u001b[39m \u001b[38;5;66;03m# Choice probability\u001b[39;00m\n\u001b[32m--> \u001b[39m\u001b[32m680\u001b[39m x[\u001b[33m\"\u001b[39m\u001b[33mchoice_p\u001b[39m\u001b[33m\"\u001b[39m] = np.zeros((n_trials, \u001b[38;5;28mlen\u001b[39m(\u001b[43mx\u001b[49m\u001b[43m[\u001b[49m\u001b[33;43m\"\u001b[39;49m\u001b[33;43mmetadata\u001b[39;49m\u001b[33;43m\"\u001b[39;49m\u001b[43m]\u001b[49m\u001b[43m[\u001b[49m\u001b[33;43m\"\u001b[39;49m\u001b[33;43mpossible_choices\u001b[39;49m\u001b[33;43m\"\u001b[39;49m\u001b[43m]\u001b[49m)))\n\u001b[32m    681\u001b[39m x[\u001b[33m\"\u001b[39m\u001b[33mchoice_p_no_omission\u001b[39m\u001b[33m\"\u001b[39m] = np.zeros(\n\u001b[32m    682\u001b[39m     (n_trials, \u001b[38;5;28mlen\u001b[39m(x[\u001b[33m\"\u001b[39m\u001b[33mmetadata\u001b[39m\u001b[33m\"\u001b[39m][\u001b[33m\"\u001b[39m\u001b[33mpossible_choices\u001b[39m\u001b[33m\"\u001b[39m]))\n\u001b[32m    683\u001b[39m )\n\u001b[32m    684\u001b[39m x[\u001b[33m\"\u001b[39m\u001b[33momission_p\u001b[39m\u001b[33m\"\u001b[39m] = np.zeros((n_trials, \u001b[32m1\u001b[39m))\n",
      "\u001b[31mKeyError\u001b[39m: 'possible_choices'"
     ]
    }
   ],
   "source": [
    "from ssms.basic_simulators.simulator import simulator\n",
    "out_list = []\n",
    "for i in range(100):\n",
    "    sim_out = simulator(\n",
    "        model=\"exgauss\", theta={\"mu\": 0.5, \"sigma\":0.01, \"tau\": 0.3}, n_samples=1, random_state = 100,\n",
    "    )\n",
    "    out_list.append(sim_out)"
   ]
  },
  {
   "cell_type": "code",
   "execution_count": null,
   "metadata": {},
   "outputs": [],
   "source": []
  }
 ],
 "metadata": {
  "kernelspec": {
   "display_name": "ssms-venv",
   "language": "python",
   "name": "ssms-venv"
  },
  "language_info": {
   "codemirror_mode": {
    "name": "ipython",
    "version": 3
   },
   "file_extension": ".py",
   "mimetype": "text/x-python",
   "name": "python",
   "nbconvert_exporter": "python",
   "pygments_lexer": "ipython3",
   "version": "3.11.13"
  }
 },
 "nbformat": 4,
 "nbformat_minor": 2
}
