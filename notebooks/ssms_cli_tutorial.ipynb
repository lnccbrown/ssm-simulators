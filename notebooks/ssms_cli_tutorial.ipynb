{
 "cells": [
  {
   "cell_type": "markdown",
   "id": "a87b587d",
   "metadata": {},
   "source": [
    "# SSM-Simulators Command-Line-Interface (CLI) Tutorial\n",
    "### *Running SSM-simulators from the command line enables you to easily simulate data by writing a single line of code*\n",
    "\n",
    "--- \n",
    "\n",
    "#### SSM-simulators is a Python package that allows one to:\n",
    "1. Easily and quickly generate simulated data from sequential-sampling models\n",
    "2. Provides support infrastructure to construct training data for various approaches to likelihood / posterior amortization. \n",
    "\n",
    "You can read more about SSM-simulators [here](https://github.com/lnccbrown/ssm-simulators).\n",
    "\n",
    "#### To run SSM-simulators from the CLI, there are two steps\n",
    "1. Create configuration file, and modify it according to what you want to simulate\n",
    "2. Run a `generate.py` script using this configuration file\n",
    "\n",
    "### **1. Create Config File**\n",
    "The first step is to create a configuration file. This is a `.yaml` file which contains all of the metadata needed to simulate a model.\n",
    "\n",
    "Here's an example config file: "
   ]
  },
  {
   "cell_type": "code",
   "execution_count": null,
   "id": "5ef3ade1",
   "metadata": {
    "vscode": {
     "languageId": "yaml"
    }
   },
   "outputs": [],
   "source": [
    "MODEL: 'ddm'\n",
    "N_SAMPLES: 2000\n",
    "N_PARAMETER_SETS: 100\n",
    "DELTA_T: 0.001\n",
    "N_TRAINING_SAMPLES_BY_PARAMETER_SET: 200\n",
    "N_SUBRUNS: 20\n",
    "GENERATOR_APPROACH: 'lan'"
   ]
  },
  {
   "cell_type": "markdown",
   "id": "763a1300",
   "metadata": {},
   "source": [
    "Let's go through each of the options on this config file:\n",
    "\n",
    "| Option | Definition |\n",
    "| ------ | ---------- |\n",
    "| `MODEL` | The type of model you want to simulate |\n",
    "| `N_SAMPLES` | Number of samples a simulation run should entail for a given parameter set|\n",
    "| `N_PARAMETER_SETS` | Number of parameter vectors that are used for training |\n",
    "| `DELTA_T` | Time discretization step used in numerical simulation of the model. Interval between updates of evidence-accumulation. |\n",
    "| `N_TRAINING_SAMPLES_BY_PARAMETER_SET` | Number of times the kernal density estimate (KDE) is evaluated after creating the KDE from simulations of each set of model parameters. |\n",
    "| `N_SUBRUNS` | Number of repetitions of each call to generate data |\n",
    "| `GENERATOR_APPROACH` | Type of generator used to generate data | \n",
    "\n",
    "To make your own configuration file, you can copy the `config_data_generation.yaml` file from `ssms/cli` in the `ssm-simulators` repo, and modify it with your preferences."
   ]
  },
  {
   "cell_type": "markdown",
   "id": "aab34cb1",
   "metadata": {},
   "source": [
    "### **2. Run Python Script from the Command Line using your Configuration File**\n",
    "\n",
    "#### After creating your configuration file, it's now time to generate simulations using your configurations. \n",
    "\n",
    "You can now run the `generate` command in your terminal, which takes 3 arguments:\n",
    "* `--config-path`: Path to your YAML configuration file (required)\n",
    "* `--output`: Directory where generated data will be saved (required)\n",
    "* `--log-level`: (Optional) Set the logging level (`DEBUG`, `INFO`, `WARNING`, `ERROR`, `CRITICAL`). Default is `WARNING`.\n",
    "\n",
    "You can also run:\n",
    "\n",
    "`generate --help` to see further documentation.\n",
    "\n",
    "This should create training data based on your configurations and put the training data in your output folder\n",
    "\n",
    "#### Sample"
   ]
  },
  {
   "cell_type": "code",
   "execution_count": null,
   "id": "9b5fedcb",
   "metadata": {
    "vscode": {
     "languageId": "shellscript"
    }
   },
   "outputs": [],
   "source": [
    "python path/to/generate.py --config-path /users/yourname/myproject/config_data_generation.yaml --output /users/yourname/myproject/my_generated_data --log-level INFO"
   ]
  },
  {
   "cell_type": "markdown",
   "id": "d417b05d",
   "metadata": {},
   "source": [
    "If you are using `uv`, you can use the `uv run` command to run `generate` from the command line"
   ]
  },
  {
   "cell_type": "code",
   "execution_count": null,
   "id": "1006e7e7",
   "metadata": {
    "vscode": {
     "languageId": "shellscript"
    }
   },
   "outputs": [],
   "source": [
    "uv run path/to/generate.py --config-path /users/yourname/myproject/config_data_generation.yaml --output /users/yourname/myproject/my_generated_data --log-level INFO"
   ]
  },
  {
   "cell_type": "markdown",
   "id": "43d565a5",
   "metadata": {},
   "source": [
    "If the script ran correctly, you should now have a `.pickle` file in the output folder you specified!"
   ]
  }
 ],
 "metadata": {
  "kernelspec": {
   "display_name": ".venv",
   "language": "python",
   "name": "python3"
  },
  "language_info": {
   "name": "python",
   "version": "3.11.12"
  }
 },
 "nbformat": 4,
 "nbformat_minor": 5
}
